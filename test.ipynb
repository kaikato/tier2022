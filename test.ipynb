{
 "cells": [
  {
   "cell_type": "markdown",
   "metadata": {},
   "source": [
    "Codebook for Keyword Search"
   ]
  },
  {
   "cell_type": "markdown",
   "metadata": {},
   "source": [
    "Begin with the standard imports."
   ]
  },
  {
   "cell_type": "code",
   "execution_count": 1,
   "metadata": {},
   "outputs": [],
   "source": [
    "import numpy as np\n",
    "import pandas as pd\n",
    "import openpyxl\n",
    "from pathlib import Path\n",
    "import urllib.request"
   ]
  },
  {
   "cell_type": "code",
   "execution_count": 1,
   "metadata": {},
   "outputs": [
    {
     "ename": "ModuleNotFoundError",
     "evalue": "No module named 'PyPDF2'",
     "output_type": "error",
     "traceback": [
      "\u001b[0;31m---------------------------------------------------------------------------\u001b[0m",
      "\u001b[0;31mModuleNotFoundError\u001b[0m                       Traceback (most recent call last)",
      "\u001b[1;32m/Users/Kai/Desktop/TIER/test.ipynb Cell 4'\u001b[0m in \u001b[0;36m<cell line: 1>\u001b[0;34m()\u001b[0m\n\u001b[0;32m----> <a href='vscode-notebook-cell:/Users/Kai/Desktop/TIER/test.ipynb#ch0000034?line=0'>1</a>\u001b[0m \u001b[39mfrom\u001b[39;00m \u001b[39mPyPDF2\u001b[39;00m \u001b[39mimport\u001b[39;00m PdfFileMerger\n",
      "\u001b[0;31mModuleNotFoundError\u001b[0m: No module named 'PyPDF2'"
     ]
    }
   ],
   "source": [
    "from PyPDF2 import PdfFileMerger "
   ]
  },
  {
   "cell_type": "markdown",
   "metadata": {},
   "source": [
    "Take user input for the keyword to be searched. "
   ]
  },
  {
   "cell_type": "code",
   "execution_count": null,
   "metadata": {},
   "outputs": [],
   "source": [
    "keyword = input('Enter keyword: ')"
   ]
  },
  {
   "cell_type": "markdown",
   "metadata": {},
   "source": [
    "Create a pandas dataframe from the CORDIS dataset."
   ]
  },
  {
   "cell_type": "code",
   "execution_count": null,
   "metadata": {},
   "outputs": [],
   "source": [
    "projects = pd.read_excel(\"data/xlsx/project.xlsx\")"
   ]
  },
  {
   "cell_type": "code",
   "execution_count": 154,
   "metadata": {},
   "outputs": [
    {
     "data": {
      "text/plain": [
       "Index(['id', 'acronym', 'status', 'title', 'startDate', 'endDate', 'totalCost',\n",
       "       'ecMaxContribution', 'legalBasis', 'topics', 'ecSignatureDate',\n",
       "       'frameworkProgramme', 'masterCall', 'subCall', 'fundingScheme',\n",
       "       'nature', 'objective', 'contentUpdateDate', 'rcn', 'grantDoi'],\n",
       "      dtype='object')"
      ]
     },
     "execution_count": 154,
     "metadata": {},
     "output_type": "execute_result"
    }
   ],
   "source": [
    "projects.columns"
   ]
  },
  {
   "cell_type": "code",
   "execution_count": null,
   "metadata": {},
   "outputs": [],
   "source": [
    "projects['objective'][0]"
   ]
  },
  {
   "cell_type": "code",
   "execution_count": null,
   "metadata": {},
   "outputs": [],
   "source": [
    "dsc = pd.Series(projects['objective'], dtype=\"string\")\n",
    "dsc = dsc.str.lower()\n",
    "# reg = r\"\\.|\\s[the]\\.\\s\"\n",
    "counts = dsc.str.count(\" \" + keyword + \" \")\n",
    "counts = counts[counts>0]\n",
    "# current implementation ignores cases such as .{term} or {term}. Add regex to overcome these cases. \n"
   ]
  },
  {
   "cell_type": "code",
   "execution_count": null,
   "metadata": {},
   "outputs": [],
   "source": [
    "sortedCounts = counts.sort_values(ascending=False)\n",
    "sortedCounts.index"
   ]
  },
  {
   "cell_type": "code",
   "execution_count": null,
   "metadata": {},
   "outputs": [],
   "source": [
    "df = projects.iloc[sortedCounts.index]"
   ]
  },
  {
   "cell_type": "code",
   "execution_count": 153,
   "metadata": {},
   "outputs": [
    {
     "data": {
      "text/plain": [
       "Index(['id', 'title'], dtype='object')"
      ]
     },
     "execution_count": 153,
     "metadata": {},
     "output_type": "execute_result"
    }
   ],
   "source": [
    "projectList = df[['id', 'title']]\n",
    "projectList.iloc[[3]]\n",
    "projectList.columns"
   ]
  },
  {
   "cell_type": "code",
   "execution_count": null,
   "metadata": {},
   "outputs": [],
   "source": [
    "orgs = pd.read_excel(\"data/xlsx/organization.xlsx\")"
   ]
  },
  {
   "cell_type": "code",
   "execution_count": null,
   "metadata": {},
   "outputs": [],
   "source": [
    "t = orgs[orgs['projectID'].isin(projectList['id'])]"
   ]
  },
  {
   "cell_type": "code",
   "execution_count": 161,
   "metadata": {},
   "outputs": [
    {
     "data": {
      "text/html": [
       "<div>\n",
       "<style scoped>\n",
       "    .dataframe tbody tr th:only-of-type {\n",
       "        vertical-align: middle;\n",
       "    }\n",
       "\n",
       "    .dataframe tbody tr th {\n",
       "        vertical-align: top;\n",
       "    }\n",
       "\n",
       "    .dataframe thead th {\n",
       "        text-align: right;\n",
       "    }\n",
       "</style>\n",
       "<table border=\"1\" class=\"dataframe\">\n",
       "  <thead>\n",
       "    <tr style=\"text-align: right;\">\n",
       "      <th></th>\n",
       "      <th>organisationID</th>\n",
       "      <th>name</th>\n",
       "    </tr>\n",
       "  </thead>\n",
       "  <tbody>\n",
       "    <tr>\n",
       "      <th>94</th>\n",
       "      <td>999528450</td>\n",
       "      <td>FUNDACIO INSTITUT DE BIOENGINYERIA DE CATALUNYA</td>\n",
       "    </tr>\n",
       "    <tr>\n",
       "      <th>539</th>\n",
       "      <td>999909175</td>\n",
       "      <td>STMICROELECTRONICS SA</td>\n",
       "    </tr>\n",
       "    <tr>\n",
       "      <th>540</th>\n",
       "      <td>936927269</td>\n",
       "      <td>SURECORE LTD</td>\n",
       "    </tr>\n",
       "    <tr>\n",
       "      <th>541</th>\n",
       "      <td>999875225</td>\n",
       "      <td>INSTITUT POLYTECHNIQUE DE GRENOBLE</td>\n",
       "    </tr>\n",
       "    <tr>\n",
       "      <th>542</th>\n",
       "      <td>999992401</td>\n",
       "      <td>COMMISSARIAT A L ENERGIE ATOMIQUE ET AUX ENERG...</td>\n",
       "    </tr>\n",
       "    <tr>\n",
       "      <th>...</th>\n",
       "      <td>...</td>\n",
       "      <td>...</td>\n",
       "    </tr>\n",
       "    <tr>\n",
       "      <th>170935</th>\n",
       "      <td>998642064</td>\n",
       "      <td>BLUEFORS CRYOGENICS OY</td>\n",
       "    </tr>\n",
       "    <tr>\n",
       "      <th>171564</th>\n",
       "      <td>928209394</td>\n",
       "      <td>ALTERNATIVE ENERGY INNOVATIONS SL</td>\n",
       "    </tr>\n",
       "    <tr>\n",
       "      <th>172312</th>\n",
       "      <td>921075820</td>\n",
       "      <td>NYXOAH SA</td>\n",
       "    </tr>\n",
       "    <tr>\n",
       "      <th>173026</th>\n",
       "      <td>938857763</td>\n",
       "      <td>SMARTPATCH SRLS</td>\n",
       "    </tr>\n",
       "    <tr>\n",
       "      <th>173393</th>\n",
       "      <td>901338745</td>\n",
       "      <td>BIALOOM LTD</td>\n",
       "    </tr>\n",
       "  </tbody>\n",
       "</table>\n",
       "<p>592 rows × 2 columns</p>\n",
       "</div>"
      ],
      "text/plain": [
       "        organisationID                                               name\n",
       "94           999528450    FUNDACIO INSTITUT DE BIOENGINYERIA DE CATALUNYA\n",
       "539          999909175                              STMICROELECTRONICS SA\n",
       "540          936927269                                       SURECORE LTD\n",
       "541          999875225                 INSTITUT POLYTECHNIQUE DE GRENOBLE\n",
       "542          999992401  COMMISSARIAT A L ENERGIE ATOMIQUE ET AUX ENERG...\n",
       "...                ...                                                ...\n",
       "170935       998642064                             BLUEFORS CRYOGENICS OY\n",
       "171564       928209394                  ALTERNATIVE ENERGY INNOVATIONS SL\n",
       "172312       921075820                                          NYXOAH SA\n",
       "173026       938857763                                    SMARTPATCH SRLS\n",
       "173393       901338745                                        BIALOOM LTD\n",
       "\n",
       "[592 rows x 2 columns]"
      ]
     },
     "execution_count": 161,
     "metadata": {},
     "output_type": "execute_result"
    }
   ],
   "source": [
    "companyList = t[['organisationID', 'name']]\n",
    "#companyList.reset_index(drop=True)\n",
    "companyList = companyList.drop_duplicates()\n",
    "companyList"
   ]
  },
  {
   "cell_type": "code",
   "execution_count": 158,
   "metadata": {},
   "outputs": [],
   "source": []
  },
  {
   "cell_type": "code",
   "execution_count": 165,
   "metadata": {},
   "outputs": [
    {
     "data": {
      "text/html": [
       "<div>\n",
       "<style scoped>\n",
       "    .dataframe tbody tr th:only-of-type {\n",
       "        vertical-align: middle;\n",
       "    }\n",
       "\n",
       "    .dataframe tbody tr th {\n",
       "        vertical-align: top;\n",
       "    }\n",
       "\n",
       "    .dataframe thead th {\n",
       "        text-align: right;\n",
       "    }\n",
       "</style>\n",
       "<table border=\"1\" class=\"dataframe\">\n",
       "  <thead>\n",
       "    <tr style=\"text-align: right;\">\n",
       "      <th></th>\n",
       "      <th>id</th>\n",
       "      <th>title</th>\n",
       "    </tr>\n",
       "  </thead>\n",
       "  <tbody>\n",
       "    <tr>\n",
       "      <th>29174</th>\n",
       "      <td>674434</td>\n",
       "      <td>SMS - Safety Micro Sensor</td>\n",
       "    </tr>\n",
       "    <tr>\n",
       "      <th>297</th>\n",
       "      <td>664828</td>\n",
       "      <td>Noisy Electromagnetic Fields - A Technological...</td>\n",
       "    </tr>\n",
       "    <tr>\n",
       "      <th>24567</th>\n",
       "      <td>688544</td>\n",
       "      <td>Large Scale Silicon Photonics Matrix for Low P...</td>\n",
       "    </tr>\n",
       "    <tr>\n",
       "      <th>28525</th>\n",
       "      <td>888382</td>\n",
       "      <td>Product validation of Software Defined Radio C...</td>\n",
       "    </tr>\n",
       "    <tr>\n",
       "      <th>5359</th>\n",
       "      <td>101018843</td>\n",
       "      <td>Fully integrated and CMOS compatible, nanoscal...</td>\n",
       "    </tr>\n",
       "  </tbody>\n",
       "</table>\n",
       "</div>"
      ],
      "text/plain": [
       "              id                                              title\n",
       "29174     674434                          SMS - Safety Micro Sensor\n",
       "297       664828  Noisy Electromagnetic Fields - A Technological...\n",
       "24567     688544  Large Scale Silicon Photonics Matrix for Low P...\n",
       "28525     888382  Product validation of Software Defined Radio C...\n",
       "5359   101018843  Fully integrated and CMOS compatible, nanoscal..."
      ]
     },
     "execution_count": 165,
     "metadata": {},
     "output_type": "execute_result"
    }
   ],
   "source": [
    "topProjects = projectList.iloc[0:5]\n",
    "topProjects"
   ]
  },
  {
   "cell_type": "code",
   "execution_count": 167,
   "metadata": {},
   "outputs": [],
   "source": [
    "with pd.ExcelWriter(\"keywordResults.xlsx\") as writer:\n",
    "    projectList.to_excel(writer, sheet_name=\"projects\", index=False, float_format=\"%f\")\n",
    "    companyList.to_excel(writer, sheet_name=\"organizations\", index=False, float_format=\"%f\")\n",
    "    topProjects.to_excel(writer, sheet_name=\"top_projects\", index=False, float_format=\"%f\")"
   ]
  },
  {
   "cell_type": "code",
   "execution_count": 170,
   "metadata": {},
   "outputs": [
    {
     "data": {
      "text/plain": [
       "['https://cordis.europa.eu/project/id/674434/en?format=pdf',\n",
       " 'https://cordis.europa.eu/project/id/664828/en?format=pdf',\n",
       " 'https://cordis.europa.eu/project/id/688544/en?format=pdf',\n",
       " 'https://cordis.europa.eu/project/id/888382/en?format=pdf',\n",
       " 'https://cordis.europa.eu/project/id/101018843/en?format=pdf']"
      ]
     },
     "execution_count": 170,
     "metadata": {},
     "output_type": "execute_result"
    }
   ],
   "source": [
    "pdf_urls = []\n",
    "for id in topProjects['id']:\n",
    "    pdf_urls.append(\"https://cordis.europa.eu/project/id/\" + str(id) + \"/en?format=pdf\")\n",
    "pdf_urls"
   ]
  },
  {
   "cell_type": "code",
   "execution_count": null,
   "metadata": {},
   "outputs": [],
   "source": []
  }
 ],
 "metadata": {
  "interpreter": {
   "hash": "57607d3c3427004b6163d1500266636626fe562e89280ce5c60cf85aacfd3c7b"
  },
  "kernelspec": {
   "display_name": "Python 3.8.3 ('base')",
   "language": "python",
   "name": "python3"
  },
  "language_info": {
   "codemirror_mode": {
    "name": "ipython",
    "version": 3
   },
   "file_extension": ".py",
   "mimetype": "text/x-python",
   "name": "python",
   "nbconvert_exporter": "python",
   "pygments_lexer": "ipython3",
   "version": "3.8.3"
  },
  "orig_nbformat": 4
 },
 "nbformat": 4,
 "nbformat_minor": 2
}
